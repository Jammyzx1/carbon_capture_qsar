{
 "cells": [
  {
   "cell_type": "markdown",
   "id": "aa2383e7",
   "metadata": {},
   "source": [
    "# QSAR modelling and Representation Building"
   ]
  },
  {
   "cell_type": "code",
   "execution_count": null,
   "id": "701208df",
   "metadata": {},
   "outputs": [],
   "source": [
    "import pandas as pd\n",
    "import numpy as np\n",
    "import os\n",
    "from tqdm import tqdm\n",
    "import matplotlib.pyplot as plt\n",
    "import rdkit\n",
    "from rdkit import Chem\n",
    "from rdkit.Chem import AllChem\n",
    "from sklearn.ensemble import RandomForestRegressor\n",
    "from sklearn.model_selection import train_test_split, GridSearchCV\n",
    "from sklearn.metrics import r2_score, mean_absolute_percentage_error, mean_squared_error\n",
    "from sentence_transformers import SentenceTransformer\n",
    "\n",
    "import logging\n",
    "logging.basicConfig(format=\"%(message)s\")\n",
    "log = logging.getLogger(__name__)\n",
    "log.setLevel(logging.INFO)"
   ]
  },
  {
   "cell_type": "code",
   "execution_count": null,
   "id": "3d3a58e5",
   "metadata": {},
   "outputs": [],
   "source": [
    "log.info(f\"RDKit version {rdkit.__version__} Pandas version: {pd.__version__} Numpy version {np.__version__}\") "
   ]
  },
  {
   "cell_type": "markdown",
   "id": "3c5e0163",
   "metadata": {},
   "source": [
    "## Load the data set"
   ]
  },
  {
   "cell_type": "code",
   "execution_count": null,
   "id": "10bc8bdf",
   "metadata": {},
   "outputs": [],
   "source": [
    "data = pd.read_csv(\"/Users/James/Documents/Carbon-capture-fingerprint-generation/ccs-datasets/ccs-98.csv\")\n",
    "data.columns = [ent.strip() for ent in data.columns]"
   ]
  },
  {
   "cell_type": "code",
   "execution_count": null,
   "id": "6d6b8662-9591-489e-b365-dc341715ee7f",
   "metadata": {},
   "outputs": [],
   "source": [
    "data.shape"
   ]
  },
  {
   "cell_type": "code",
   "execution_count": null,
   "id": "6884805e",
   "metadata": {},
   "outputs": [],
   "source": [
    "data.head()"
   ]
  },
  {
   "cell_type": "markdown",
   "id": "bdbb4700-f765-477c-a0bc-42947806a473",
   "metadata": {},
   "source": [
    "Canonicalize the smiles"
   ]
  },
  {
   "cell_type": "code",
   "execution_count": null,
   "id": "58905487-3275-48ff-9eeb-36e3a5a4ae29",
   "metadata": {},
   "outputs": [],
   "source": [
    "data[\"smiles\"] = [Chem.MolToSmiles(Chem.MolFromSmiles(smi), canonical=True) for smi in data[\"smiles\"].values]"
   ]
  },
  {
   "cell_type": "code",
   "execution_count": null,
   "id": "40c35088-05fd-4113-99f1-814a473851ba",
   "metadata": {},
   "outputs": [],
   "source": [
    "data"
   ]
  },
  {
   "cell_type": "markdown",
   "id": "b03937e2-78fd-4f76-ae01-c8368180e2f9",
   "metadata": {},
   "source": [
    "Genertate molecules from the inchi"
   ]
  },
  {
   "cell_type": "code",
   "execution_count": null,
   "id": "adb93921-c835-42f7-ae5c-f6a7ea815675",
   "metadata": {},
   "outputs": [],
   "source": [
    "data.drop_duplicates(subset=\"smiles\", keep=\"first\", inplace=True)"
   ]
  },
  {
   "cell_type": "code",
   "execution_count": null,
   "id": "c341b00b-f6c1-4172-9276-aa7414b4cf86",
   "metadata": {},
   "outputs": [],
   "source": [
    "data"
   ]
  },
  {
   "cell_type": "code",
   "execution_count": null,
   "id": "ea394e88",
   "metadata": {},
   "outputs": [],
   "source": [
    "data[\"rdkit_molecule\"] = [Chem.MolFromSmiles(s) for s in data[\"smiles\"].values]"
   ]
  },
  {
   "cell_type": "markdown",
   "id": "1c537e29",
   "metadata": {},
   "source": [
    "## Molecular descriptors"
   ]
  },
  {
   "cell_type": "markdown",
   "id": "fb7205ea-160d-47d6-8635-4c743664507a",
   "metadata": {},
   "source": [
    "### Using RDKit"
   ]
  },
  {
   "cell_type": "code",
   "execution_count": null,
   "id": "01e499ac-173d-438c-b774-c02f2ed6d952",
   "metadata": {},
   "outputs": [],
   "source": [
    "descriptors = pd.DataFrame()\n",
    "for rep, m in zip(data[\"smiles\"].values, data[\"rdkit_molecule\"].values):\n",
    "    tmp_df = pd.DataFrame(Chem.Descriptors.CalcMolDescriptors(m, np.nan), index=[rep])\n",
    "    descriptors = pd.concat([descriptors, tmp_df])"
   ]
  },
  {
   "cell_type": "markdown",
   "id": "7b6f5eaa",
   "metadata": {},
   "source": [
    "### Fingerprints"
   ]
  },
  {
   "cell_type": "code",
   "execution_count": null,
   "id": "b83341e8",
   "metadata": {},
   "outputs": [],
   "source": [
    "morgan = np.array([Chem.rdMolDescriptors.GetMorganFingerprintAsBitVect(mol, useChirality=True, radius=2, nBits=1024) for mol in tqdm(data[\"rdkit_molecule\"])])"
   ]
  },
  {
   "cell_type": "code",
   "execution_count": null,
   "id": "033b123e",
   "metadata": {},
   "outputs": [],
   "source": [
    "maccs = np.array([Chem.rdMolDescriptors.GetMACCSKeysFingerprint(mol) for mol in tqdm(data[\"rdkit_molecule\"])])"
   ]
  },
  {
   "cell_type": "markdown",
   "id": "9c40f026-b6bf-4dc2-9756-cb5cd9e6d8ee",
   "metadata": {},
   "source": [
    "### Embeddings"
   ]
  },
  {
   "cell_type": "code",
   "execution_count": null,
   "id": "4e34c614-c5b8-488d-9da9-c78793be3f8b",
   "metadata": {},
   "outputs": [],
   "source": [
    "model_st = SentenceTransformer(\"jonghyunlee/MoleculeBERT_ChEMBL-pretrained\")\n",
    "embeddings = model_st.encode(data[\"smiles\"].values[:100])\n",
    "log.info(f\"The embedding is length {len(embeddings)}{os.linesep}{embeddings}\")"
   ]
  },
  {
   "cell_type": "markdown",
   "id": "1a1654f1-4252-4644-b9bb-dd04dc80e8a7",
   "metadata": {},
   "source": [
    "## QSAR"
   ]
  },
  {
   "cell_type": "code",
   "execution_count": null,
   "id": "4c90c086-c13f-4fdf-9412-3197f46af787",
   "metadata": {},
   "outputs": [],
   "source": [
    "data.columns"
   ]
  },
  {
   "cell_type": "code",
   "execution_count": null,
   "id": "9a6219aa-722d-4d19-b5c6-396005023c32",
   "metadata": {},
   "outputs": [],
   "source": [
    "X_train, X_test, y_train, y_test = train_test_split(maccs,\n",
    "                                                   data[\"capacity_molco2_molamime\"],\n",
    "                                                   test_size=0.10, \n",
    "                                                   random_state=15715, \n",
    "                                                   shuffle=True)\n",
    "\n",
    "log.info(f\"There are {len(y_train)} training points and {len(y_test)} data points for the QSAR model\")\n",
    "\n",
    "dnn_X_train, dnn_X_validate, dnn_y_train, dnn_y_validate = train_test_split(X_train,\n",
    "                                                                           y_train,\n",
    "                                                                           test_size=0.10, \n",
    "                                                                           random_state=15715, \n",
    "                                                                           shuffle=True)"
   ]
  },
  {
   "cell_type": "code",
   "execution_count": null,
   "id": "8b6d00a8-19e4-493d-b450-ae98e82d92c0",
   "metadata": {},
   "outputs": [],
   "source": [
    "def build_model(reg, param_grid: dict, features:list, classes:list, cv:int = 5, \n",
    "                scorers: list = [\"r2\", \"neg_mean_squared_error\"], \n",
    "                refit:str = \"mean_squared_error\"):\n",
    "    \"\"\"\n",
    "    Function to build a regressor\n",
    "    :param reg: regressor - sklearn instantiation of a regressor\n",
    "    :param param_grid: dict - dictionary of arguments for the regressor\n",
    "    :param cv: int - number of cross validation windows\n",
    "    :param scorers: list - list of scoring functions\n",
    "    :param refit: scorer to use to refit to get the best model parameters\n",
    "    :return regressor with the best parameters\n",
    "    \"\"\"\n",
    "    \n",
    "    gs = GridSearchCV(reg, \n",
    "                  param_grid,\n",
    "                  cv=cv,\n",
    "                  scoring=scorers,\n",
    "                  refit=refit,\n",
    "                  verbose=1 #3,\n",
    "                  ).fit(pd.DataFrame(features), classes)\n",
    "\n",
    "    log.info(f\"Best parameters are: {gs.best_params_}\")\n",
    "\n",
    "    reg= gs.best_estimator_\n",
    "    \n",
    "    return reg\n",
    "\n",
    "regressor = RandomForestRegressor(random_state=15715)\n",
    "scorers = [\"r2\", \"neg_mean_absolute_percentage_error\", \"neg_root_mean_squared_error\"]\n",
    "param_grid = {\"max_depth\": [3, 5, 10],\n",
    "              \"min_samples_split\": [2, 5, 7, 10],\n",
    "              \"n_estimators\": [5, 10, 50, 100, 200],\n",
    "              \"max_features\": [\"sqrt\", \"log2\"]\n",
    "}\n",
    "\n",
    "regressor = build_model(regressor, param_grid, X_train, y_train,\n",
    "                  scorers=scorers, refit=\"neg_root_mean_squared_error\")"
   ]
  },
  {
   "cell_type": "code",
   "execution_count": null,
   "id": "09f4bc74-8c6f-4a86-ac0c-be133f66650c",
   "metadata": {},
   "outputs": [],
   "source": [
    "from sklearn.metrics import mean_absolute_error, mean_absolute_percentage_error, mean_squared_error\n",
    "pre = regressor.predict(X_test)\n",
    "mae = mean_absolute_error(y_test, pre)\n",
    "mape = mean_absolute_percentage_error(y_test, pre)\n",
    "mse = mean_squared_error(y_test, pre)\n",
    "cod = r2_score(y_test, pre)\n",
    "\n",
    "log.info(f\"MAE: {mae:.4f} MAPE: {mape:.4f} MSE: {mse:.4f} RMSE: {np.sqrt(mse):.4f} CoD (r2): {cod:.4f}\")"
   ]
  }
 ],
 "metadata": {
  "kernelspec": {
   "display_name": "qsar",
   "language": "python",
   "name": "qsar"
  },
  "language_info": {
   "codemirror_mode": {
    "name": "ipython",
    "version": 3
   },
   "file_extension": ".py",
   "mimetype": "text/x-python",
   "name": "python",
   "nbconvert_exporter": "python",
   "pygments_lexer": "ipython3",
   "version": "3.10.12"
  }
 },
 "nbformat": 4,
 "nbformat_minor": 5
}
